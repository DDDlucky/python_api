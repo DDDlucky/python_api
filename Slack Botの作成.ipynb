{
 "cells": [
  {
   "cell_type": "code",
   "execution_count": 1,
   "id": "a2549e74-e844-4dbd-a3ac-9b8d991e6b0d",
   "metadata": {},
   "outputs": [
    {
     "name": "stdout",
     "output_type": "stream",
     "text": [
      "Collecting slackbot\n",
      "  Downloading slackbot-1.0.0-py2.py3-none-any.whl (12 kB)\n",
      "Collecting slacker>=0.9.50\n",
      "  Downloading slacker-0.14.0.tar.gz (10 kB)\n",
      "Requirement already satisfied: six>=1.10.0 in /Users/do/.pyenv/versions/anaconda3-2019.10/lib/python3.7/site-packages (from slackbot) (1.15.0)\n",
      "Collecting websocket-client<=0.44.0,>=0.22.0\n",
      "  Downloading websocket_client-0.44.0-py2.py3-none-any.whl (199 kB)\n",
      "\u001b[K     |████████████████████████████████| 199 kB 4.3 MB/s eta 0:00:01\n",
      "\u001b[?25hRequirement already satisfied: requests>=2.4.0 in /Users/do/.pyenv/versions/anaconda3-2019.10/lib/python3.7/site-packages (from slackbot) (2.25.1)\n",
      "Requirement already satisfied: chardet<5,>=3.0.2 in /Users/do/.pyenv/versions/anaconda3-2019.10/lib/python3.7/site-packages (from requests>=2.4.0->slackbot) (4.0.0)\n",
      "Requirement already satisfied: certifi>=2017.4.17 in /Users/do/.pyenv/versions/anaconda3-2019.10/lib/python3.7/site-packages (from requests>=2.4.0->slackbot) (2020.12.5)\n",
      "Requirement already satisfied: idna<3,>=2.5 in /Users/do/.pyenv/versions/anaconda3-2019.10/lib/python3.7/site-packages (from requests>=2.4.0->slackbot) (2.10)\n",
      "Requirement already satisfied: urllib3<1.27,>=1.21.1 in /Users/do/.pyenv/versions/anaconda3-2019.10/lib/python3.7/site-packages (from requests>=2.4.0->slackbot) (1.26.4)\n",
      "Building wheels for collected packages: slacker\n",
      "  Building wheel for slacker (setup.py) ... \u001b[?25ldone\n",
      "\u001b[?25h  Created wheel for slacker: filename=slacker-0.14.0-py3-none-any.whl size=9396 sha256=6e2981410af830805715c46bd49a988d399149d701218c8fc503d9fb39a3ccb6\n",
      "  Stored in directory: /Users/do/Library/Caches/pip/wheels/96/03/7c/42cc27629dce1e0749cfb436300ae5965ccb9c4f7029527e34\n",
      "Successfully built slacker\n",
      "Installing collected packages: websocket-client, slacker, slackbot\n",
      "Successfully installed slackbot-1.0.0 slacker-0.14.0 websocket-client-0.44.0\n"
     ]
    }
   ],
   "source": [
    "\n",
    "!pip3 install slackbot"
   ]
  },
  {
   "cell_type": "code",
   "execution_count": 3,
   "id": "fd7a32cf-781b-44e7-b9a8-3c32ed91b463",
   "metadata": {},
   "outputs": [],
   "source": [
    "from slackbot.bot import Bot"
   ]
  },
  {
   "cell_type": "code",
   "execution_count": null,
   "id": "e41ede03-e614-4ca8-90a4-68ebb1a6628b",
   "metadata": {},
   "outputs": [],
   "source": [
    "bot = Bot()\n",
    "bot.run()"
   ]
  },
  {
   "cell_type": "code",
   "execution_count": null,
   "id": "3f2e0946-bb62-4f65-9598-2d9eb8bca8fa",
   "metadata": {},
   "outputs": [],
   "source": [
    "from slackbot.bot import respond_to\n",
    "from slackbot.bot import listen_to"
   ]
  },
  {
   "cell_type": "code",
   "execution_count": null,
   "id": "ff24b3be-6174-4b16-9770-7049ad23b28d",
   "metadata": {
    "tags": []
   },
   "outputs": [],
   "source": [
    "@respond_to('練習')\n",
    "def sample(message):\n",
    "    message.send('これは練習です。')"
   ]
  },
  {
   "cell_type": "code",
   "execution_count": null,
   "id": "64e4bdd5-f634-45fb-8c0f-3ed3ddfcd592",
   "metadata": {},
   "outputs": [
    {
     "name": "stderr",
     "output_type": "stream",
     "text": [
      "Unhandled exception in thread started by <bound method Bot._keepactive of <slackbot.bot.Bot object at 0x7fa7531ee6d0>>\n"
     ]
    }
   ],
   "source": [
    "bot.run()"
   ]
  },
  {
   "cell_type": "markdown",
   "id": "6fd51cbc-d276-42b9-828b-7734c5ac5e15",
   "metadata": {},
   "source": [
    "- @respond_to(特定のメッセージ) : 特定のメッセージ（メンションありorDM）がBotに送られた場合の反応をデコレータで設定\n",
    "- @listen_to(特定のメッセージ) : 特定のメッセージがどこかで発された場合の反応をデコレータで設定\n",
    "- message.reply(発言内容)：でBotが返信（デコレータで設定されたメッセージをした人へのメンション付き）\n",
    "- message.send(発言内容)：でBotが返信（メンションなし）"
   ]
  },
  {
   "cell_type": "code",
   "execution_count": null,
   "id": "98c24761-daa5-42ff-9f90-31ef09f33653",
   "metadata": {},
   "outputs": [],
   "source": []
  }
 ],
 "metadata": {
  "kernelspec": {
   "display_name": "Python 3",
   "language": "python",
   "name": "python3"
  },
  "language_info": {
   "codemirror_mode": {
    "name": "ipython",
    "version": 3
   },
   "file_extension": ".py",
   "mimetype": "text/x-python",
   "name": "python",
   "nbconvert_exporter": "python",
   "pygments_lexer": "ipython3",
   "version": "3.7.4"
  }
 },
 "nbformat": 4,
 "nbformat_minor": 5
}
