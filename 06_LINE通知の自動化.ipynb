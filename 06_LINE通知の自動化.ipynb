{
 "cells": [
  {
   "cell_type": "code",
   "execution_count": 1,
   "id": "cd83b401-ebf3-4759-9c24-32471b78fefc",
   "metadata": {},
   "outputs": [
    {
     "ename": "FileNotFoundError",
     "evalue": "[Errno 2] No such file or directory: 'line.json'",
     "output_type": "error",
     "traceback": [
      "\u001b[0;31m---------------------------------------------------------------------------\u001b[0m",
      "\u001b[0;31mFileNotFoundError\u001b[0m                         Traceback (most recent call last)",
      "\u001b[0;32m<ipython-input-1-3fc8a0193d49>\u001b[0m in \u001b[0;36m<module>\u001b[0;34m\u001b[0m\n\u001b[1;32m      1\u001b[0m \u001b[0;32mimport\u001b[0m \u001b[0mjson\u001b[0m\u001b[0;34m\u001b[0m\u001b[0;34m\u001b[0m\u001b[0m\n\u001b[0;32m----> 2\u001b[0;31m \u001b[0;32mwith\u001b[0m \u001b[0mopen\u001b[0m\u001b[0;34m(\u001b[0m\u001b[0;34m'line.json'\u001b[0m\u001b[0;34m)\u001b[0m \u001b[0;32mas\u001b[0m \u001b[0mf\u001b[0m\u001b[0;34m:\u001b[0m\u001b[0;34m\u001b[0m\u001b[0;34m\u001b[0m\u001b[0m\n\u001b[0m\u001b[1;32m      3\u001b[0m     \u001b[0mline_json\u001b[0m \u001b[0;34m=\u001b[0m \u001b[0mjson\u001b[0m\u001b[0;34m.\u001b[0m\u001b[0mload\u001b[0m\u001b[0;34m(\u001b[0m\u001b[0mf\u001b[0m\u001b[0;34m)\u001b[0m\u001b[0;34m\u001b[0m\u001b[0;34m\u001b[0m\u001b[0m\n",
      "\u001b[0;31mFileNotFoundError\u001b[0m: [Errno 2] No such file or directory: 'line.json'"
     ]
    }
   ],
   "source": [
    "import json\n",
    "with open('line.json') as f:\n",
    "    line_json = json.load(f)"
   ]
  },
  {
   "cell_type": "code",
   "execution_count": 8,
   "id": "9bf66a9e-6669-4425-9e20-543eee5c3a62",
   "metadata": {},
   "outputs": [],
   "source": [
    "LINE_NOTIFY_TOKEN = 'sQQUo5eGPilCDlmhN2WJoqbMpxIIxQb4wx765O5Cf2u'"
   ]
  },
  {
   "cell_type": "code",
   "execution_count": 9,
   "id": "f35b9450-ba70-4dd6-9780-9f810697d836",
   "metadata": {},
   "outputs": [],
   "source": [
    "import requests"
   ]
  },
  {
   "cell_type": "code",
   "execution_count": 10,
   "id": "329c6f53-8c1f-4fe9-8372-a0e98840fb81",
   "metadata": {},
   "outputs": [],
   "source": [
    "url = 'https://notify-api.line.me/api/notify'"
   ]
  },
  {
   "cell_type": "code",
   "execution_count": 11,
   "id": "8bffe847-fe93-4615-adc8-68e6e043797b",
   "metadata": {},
   "outputs": [],
   "source": [
    "message = 'これはテストメッセージです。'"
   ]
  },
  {
   "cell_type": "code",
   "execution_count": 12,
   "id": "d3028ea0-3ce6-4cdf-b090-bf1842ad68c0",
   "metadata": {},
   "outputs": [],
   "source": [
    "headers = {\n",
    "    'Authorization': f'Bearer {LINE_NOTIFY_TOKEN}'\n",
    "}\n",
    "\n",
    "data = {\n",
    "    'message': message\n",
    "}"
   ]
  },
  {
   "cell_type": "code",
   "execution_count": 15,
   "id": "b925fa06-7c25-41e2-ac53-80b27564e959",
   "metadata": {},
   "outputs": [
    {
     "data": {
      "text/plain": [
       "<Response [200]>"
      ]
     },
     "execution_count": 15,
     "metadata": {},
     "output_type": "execute_result"
    }
   ],
   "source": [
    "requests.post(\n",
    "    url,\n",
    "    headers=headers,\n",
    "    data=data\n",
    ")"
   ]
  },
  {
   "cell_type": "code",
   "execution_count": 17,
   "id": "65727148-0e6d-4232-92b0-aa5824aba7c5",
   "metadata": {},
   "outputs": [],
   "source": [
    "def notify_message(message):\n",
    "    LINE_NOTIFY_TOKEN = 'sQQUo5eGPilCDlmhN2WJoqbMpxIIxQb4wx765O5Cf2u'\n",
    "    url = 'https://notify-api.line.me/api/notify'\n",
    "    # message = 'これはテストメッセージです。'\n",
    "\n",
    "    headers = {\n",
    "        'Authorization': f'Bearer {LINE_NOTIFY_TOKEN}'\n",
    "    }\n",
    "\n",
    "    data = {\n",
    "        'message': message\n",
    "    }\n",
    "\n",
    "    requests.post(\n",
    "        url,\n",
    "        headers=headers,\n",
    "        data=data\n",
    "    )\n"
   ]
  },
  {
   "cell_type": "code",
   "execution_count": 18,
   "id": "1e227c62-e1b4-4466-83fc-65bc0e3ae27b",
   "metadata": {},
   "outputs": [],
   "source": [
    "message = '関数を用いたテスト通知'\n",
    "notify_message(message)"
   ]
  },
  {
   "cell_type": "code",
   "execution_count": null,
   "id": "3f354b8a-9cdf-4363-805e-5d2c5dcc7a47",
   "metadata": {},
   "outputs": [],
   "source": []
  }
 ],
 "metadata": {
  "kernelspec": {
   "display_name": "Python 3",
   "language": "python",
   "name": "python3"
  },
  "language_info": {
   "codemirror_mode": {
    "name": "ipython",
    "version": 3
   },
   "file_extension": ".py",
   "mimetype": "text/x-python",
   "name": "python",
   "nbconvert_exporter": "python",
   "pygments_lexer": "ipython3",
   "version": "3.7.4"
  }
 },
 "nbformat": 4,
 "nbformat_minor": 5
}
