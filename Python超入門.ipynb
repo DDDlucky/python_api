{
 "cells": [
  {
   "cell_type": "code",
   "execution_count": 1,
   "id": "fd07e141-82b6-4e87-9238-21047c6cecbe",
   "metadata": {},
   "outputs": [],
   "source": [
    "money = 3000"
   ]
  },
  {
   "cell_type": "code",
   "execution_count": 5,
   "id": "30372b20-c6e8-4c5d-8c82-c0beb9685df3",
   "metadata": {},
   "outputs": [
    {
     "name": "stdout",
     "output_type": "stream",
     "text": [
      "どこにもいきません\n"
     ]
    }
   ],
   "source": [
    "if money >= 8000:\n",
    "    print('ディズニーランドに行きます')\n",
    "elif money >= 2000:\n",
    "    print('映画館にいきます')\n",
    "else:        \n",
    "    print('どこにもいきません')"
   ]
  },
  {
   "cell_type": "code",
   "execution_count": 6,
   "id": "e0d2bb94-42c1-423e-8163-b28921aa4ea1",
   "metadata": {},
   "outputs": [],
   "source": [
    "names = ['今西', '砂糖', 'スズキ', '高橋', '川上' ]"
   ]
  },
  {
   "cell_type": "code",
   "execution_count": 8,
   "id": "cba4a7df-ccb1-4fa8-bd80-5b5d8b0ae150",
   "metadata": {},
   "outputs": [
    {
     "name": "stdout",
     "output_type": "stream",
     "text": [
      "今西さん\n",
      "砂糖さん\n",
      "スズキさん\n",
      "高橋さん\n",
      "川上さん\n"
     ]
    }
   ],
   "source": [
    "for i in range(5):\n",
    "    print(names[i]+'さん')"
   ]
  },
  {
   "cell_type": "code",
   "execution_count": 10,
   "id": "f86cd13b-5ffe-41ca-9f15-918f62958e58",
   "metadata": {},
   "outputs": [
    {
     "name": "stdout",
     "output_type": "stream",
     "text": [
      "今西さん\n",
      "砂糖さん\n",
      "スズキさん\n",
      "高橋さん\n",
      "川上さん\n"
     ]
    }
   ],
   "source": [
    "for i in range(len(names)):\n",
    "    print(names[i]+'さん')"
   ]
  },
  {
   "cell_type": "code",
   "execution_count": 12,
   "id": "ace35dc0-56f1-4503-a6d6-2b0ab9f46391",
   "metadata": {},
   "outputs": [
    {
     "name": "stdout",
     "output_type": "stream",
     "text": [
      "今西さん\n",
      "砂糖さん\n",
      "スズキさん\n",
      "高橋さん\n",
      "川上さん\n"
     ]
    }
   ],
   "source": [
    "for name in names:\n",
    "    print(name +'さん')"
   ]
  },
  {
   "cell_type": "code",
   "execution_count": 13,
   "id": "ab0d3492-3f7d-4f97-bda4-f1aeb78900ec",
   "metadata": {},
   "outputs": [],
   "source": [
    "last_names = ['今西', '砂糖', 'スズキ', '高橋', '川上' ]\n",
    "first_names = ['こうへい', 'けんさく', 'こうじ', 'こうすけ', '川上' ]"
   ]
  },
  {
   "cell_type": "code",
   "execution_count": 16,
   "id": "57c21e17-9980-43d3-b519-9464c36da3bf",
   "metadata": {},
   "outputs": [
    {
     "name": "stdout",
     "output_type": "stream",
     "text": [
      "今西こうへいさん\n",
      "砂糖けんさくさん\n",
      "スズキこうじさん\n",
      "高橋こうすけさん\n",
      "川上川上さん\n"
     ]
    }
   ],
   "source": [
    "for last_name, first_name in zip(last_names, first_names):\n",
    "    print(last_name + first_name + 'さん')"
   ]
  },
  {
   "cell_type": "code",
   "execution_count": 20,
   "id": "7e697abb-c8c4-4a96-afa5-efaabffac3db",
   "metadata": {},
   "outputs": [
    {
     "name": "stdout",
     "output_type": "stream",
     "text": [
      "出席番号 0 番目の今西さん\n",
      "出席番号 1 番目の砂糖さん\n",
      "出席番号 2 番目のスズキさん\n",
      "出席番号 3 番目の高橋さん\n",
      "出席番号 4 番目の川上さん\n"
     ]
    }
   ],
   "source": [
    "for i, last_name in enumerate(last_names):\n",
    "    print('出席番号',i,'番目の' + last_name + 'さん')"
   ]
  },
  {
   "cell_type": "code",
   "execution_count": 21,
   "id": "60667cd2-a342-4f37-8560-de4abfcc21f0",
   "metadata": {},
   "outputs": [
    {
     "name": "stdout",
     "output_type": "stream",
     "text": [
      "出席番号0番目の今西さん\n",
      "出席番号1番目の砂糖さん\n",
      "出席番号2番目のスズキさん\n",
      "出席番号3番目の高橋さん\n",
      "出席番号4番目の川上さん\n"
     ]
    }
   ],
   "source": [
    "for i, last_name in enumerate(last_names):\n",
    "    print(f'出席番号{i}番目の{last_name}さん')"
   ]
  },
  {
   "cell_type": "code",
   "execution_count": 23,
   "id": "05d8a9a9-3b47-4f5f-9119-a825c4b0d8b8",
   "metadata": {},
   "outputs": [
    {
     "name": "stdout",
     "output_type": "stream",
     "text": [
      "0\n",
      "1\n",
      "2\n",
      "3\n",
      "4\n",
      "5\n",
      "6\n"
     ]
    }
   ],
   "source": [
    "for i in range(10):\n",
    "    if i ==7:\n",
    "        break\n",
    "    print(i)"
   ]
  },
  {
   "cell_type": "code",
   "execution_count": 24,
   "id": "cd874e0b-eb28-4693-a820-6aabb10296c1",
   "metadata": {},
   "outputs": [
    {
     "name": "stdout",
     "output_type": "stream",
     "text": [
      "0\n",
      "1\n",
      "2\n",
      "3\n",
      "4\n",
      "5\n",
      "6\n",
      "8\n",
      "9\n"
     ]
    }
   ],
   "source": [
    "for i in range(10):\n",
    "    if i ==7:\n",
    "        continue\n",
    "    print(i)"
   ]
  },
  {
   "cell_type": "code",
   "execution_count": 25,
   "id": "f1201140-2be7-49be-b544-d75ec027578b",
   "metadata": {},
   "outputs": [],
   "source": [
    "def say_hello():\n",
    "    print('みなさん、こんにちは')"
   ]
  },
  {
   "cell_type": "code",
   "execution_count": 26,
   "id": "0e4486b3-1c97-4907-bc5f-d277df1e435c",
   "metadata": {},
   "outputs": [
    {
     "name": "stdout",
     "output_type": "stream",
     "text": [
      "みなさん、こんにちは\n"
     ]
    }
   ],
   "source": [
    "say_hello()"
   ]
  },
  {
   "cell_type": "code",
   "execution_count": 27,
   "id": "8d8409b0-b577-42e5-97a5-2149c69d89b6",
   "metadata": {},
   "outputs": [],
   "source": [
    "def say_hello2(name):\n",
    "    print(f'{name}さん、こんにちは')"
   ]
  },
  {
   "cell_type": "code",
   "execution_count": 29,
   "id": "fe85ea87-2f97-4fde-bdc1-3e7ef61249e0",
   "metadata": {},
   "outputs": [
    {
     "name": "stdout",
     "output_type": "stream",
     "text": [
      "今西さん、こんにちは\n"
     ]
    }
   ],
   "source": [
    "say_hello2(name='今西')"
   ]
  },
  {
   "cell_type": "code",
   "execution_count": 30,
   "id": "c9d3db32-80cf-4256-bcea-81ca10dd0eb0",
   "metadata": {},
   "outputs": [],
   "source": [
    "# def calc_square(side):\n",
    "#     print(side * side)"
   ]
  },
  {
   "cell_type": "code",
   "execution_count": 32,
   "id": "07228cf0-ea55-40c6-8286-05e7c01ebc43",
   "metadata": {},
   "outputs": [
    {
     "name": "stdout",
     "output_type": "stream",
     "text": [
      "100\n"
     ]
    }
   ],
   "source": [
    "# result = calc_square(side=10)"
   ]
  },
  {
   "cell_type": "code",
   "execution_count": 40,
   "id": "d218c0e1-cf5d-468b-babb-bf87293fd891",
   "metadata": {},
   "outputs": [],
   "source": [
    "def calc_square(side):\n",
    "    return side * side"
   ]
  },
  {
   "cell_type": "code",
   "execution_count": 42,
   "id": "e27651b4-6598-4356-ab09-0dcda78a4170",
   "metadata": {},
   "outputs": [],
   "source": [
    "result = calc_square(side=10)"
   ]
  },
  {
   "cell_type": "code",
   "execution_count": 43,
   "id": "c45ad97f-e9d0-4828-9c5e-69292afc963c",
   "metadata": {},
   "outputs": [
    {
     "data": {
      "text/plain": [
       "100"
      ]
     },
     "execution_count": 43,
     "metadata": {},
     "output_type": "execute_result"
    }
   ],
   "source": [
    "result"
   ]
  },
  {
   "cell_type": "code",
   "execution_count": 44,
   "id": "48aa8423-d29f-41a1-90e5-94bf7d4d3e4c",
   "metadata": {},
   "outputs": [],
   "source": [
    "def calc_tri(base, height):\n",
    "    return base * height * 0.5"
   ]
  },
  {
   "cell_type": "code",
   "execution_count": 45,
   "id": "01760e01-43bd-4925-93a1-5f7adf06bd80",
   "metadata": {},
   "outputs": [
    {
     "data": {
      "text/plain": [
       "1000.0"
      ]
     },
     "execution_count": 45,
     "metadata": {},
     "output_type": "execute_result"
    }
   ],
   "source": [
    "calc_tri(base=100, height=20)"
   ]
  },
  {
   "cell_type": "code",
   "execution_count": null,
   "id": "028f8603-4dee-4589-b745-97a1da60fa28",
   "metadata": {},
   "outputs": [],
   "source": []
  }
 ],
 "metadata": {
  "kernelspec": {
   "display_name": "Python 3",
   "language": "python",
   "name": "python3"
  },
  "language_info": {
   "codemirror_mode": {
    "name": "ipython",
    "version": 3
   },
   "file_extension": ".py",
   "mimetype": "text/x-python",
   "name": "python",
   "nbconvert_exporter": "python",
   "pygments_lexer": "ipython3",
   "version": "3.7.4"
  }
 },
 "nbformat": 4,
 "nbformat_minor": 5
}
