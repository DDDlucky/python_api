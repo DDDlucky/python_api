{
 "cells": [
  {
   "cell_type": "code",
   "execution_count": 1,
   "id": "fd07e141-82b6-4e87-9238-21047c6cecbe",
   "metadata": {},
   "outputs": [],
   "source": [
    "money = 3000"
   ]
  },
  {
   "cell_type": "code",
   "execution_count": 5,
   "id": "30372b20-c6e8-4c5d-8c82-c0beb9685df3",
   "metadata": {},
   "outputs": [
    {
     "name": "stdout",
     "output_type": "stream",
     "text": [
      "どこにもいきません\n"
     ]
    }
   ],
   "source": [
    "if money >= 8000:\n",
    "    print('ディズニーランドに行きます')\n",
    "elif money >= 2000:\n",
    "    print('映画館にいきます')\n",
    "else:        \n",
    "    print('どこにもいきません')"
   ]
  },
  {
   "cell_type": "code",
   "execution_count": 6,
   "id": "e0d2bb94-42c1-423e-8163-b28921aa4ea1",
   "metadata": {},
   "outputs": [],
   "source": [
    "names = ['今西', '砂糖', 'スズキ', '高橋', '川上' ]"
   ]
  },
  {
   "cell_type": "code",
   "execution_count": 8,
   "id": "cba4a7df-ccb1-4fa8-bd80-5b5d8b0ae150",
   "metadata": {},
   "outputs": [
    {
     "name": "stdout",
     "output_type": "stream",
     "text": [
      "今西さん\n",
      "砂糖さん\n",
      "スズキさん\n",
      "高橋さん\n",
      "川上さん\n"
     ]
    }
   ],
   "source": [
    "for i in range(5):\n",
    "    print(names[i]+'さん')"
   ]
  },
  {
   "cell_type": "code",
   "execution_count": 10,
   "id": "f86cd13b-5ffe-41ca-9f15-918f62958e58",
   "metadata": {},
   "outputs": [
    {
     "name": "stdout",
     "output_type": "stream",
     "text": [
      "今西さん\n",
      "砂糖さん\n",
      "スズキさん\n",
      "高橋さん\n",
      "川上さん\n"
     ]
    }
   ],
   "source": [
    "for i in range(len(names)):\n",
    "    print(names[i]+'さん')"
   ]
  },
  {
   "cell_type": "code",
   "execution_count": 12,
   "id": "ace35dc0-56f1-4503-a6d6-2b0ab9f46391",
   "metadata": {},
   "outputs": [
    {
     "name": "stdout",
     "output_type": "stream",
     "text": [
      "今西さん\n",
      "砂糖さん\n",
      "スズキさん\n",
      "高橋さん\n",
      "川上さん\n"
     ]
    }
   ],
   "source": [
    "for name in names:\n",
    "    print(name +'さん')"
   ]
  },
  {
   "cell_type": "code",
   "execution_count": 13,
   "id": "ab0d3492-3f7d-4f97-bda4-f1aeb78900ec",
   "metadata": {},
   "outputs": [],
   "source": [
    "last_names = ['今西', '砂糖', 'スズキ', '高橋', '川上' ]\n",
    "first_names = ['こうへい', 'けんさく', 'こうじ', 'こうすけ', '川上' ]"
   ]
  },
  {
   "cell_type": "code",
   "execution_count": 16,
   "id": "57c21e17-9980-43d3-b519-9464c36da3bf",
   "metadata": {},
   "outputs": [
    {
     "name": "stdout",
     "output_type": "stream",
     "text": [
      "今西こうへいさん\n",
      "砂糖けんさくさん\n",
      "スズキこうじさん\n",
      "高橋こうすけさん\n",
      "川上川上さん\n"
     ]
    }
   ],
   "source": [
    "for last_name, first_name in zip(last_names, first_names):\n",
    "    print(last_name + first_name + 'さん')"
   ]
  },
  {
   "cell_type": "code",
   "execution_count": 20,
   "id": "7e697abb-c8c4-4a96-afa5-efaabffac3db",
   "metadata": {},
   "outputs": [
    {
     "name": "stdout",
     "output_type": "stream",
     "text": [
      "出席番号 0 番目の今西さん\n",
      "出席番号 1 番目の砂糖さん\n",
      "出席番号 2 番目のスズキさん\n",
      "出席番号 3 番目の高橋さん\n",
      "出席番号 4 番目の川上さん\n"
     ]
    }
   ],
   "source": [
    "for i, last_name in enumerate(last_names):\n",
    "    print('出席番号',i,'番目の' + last_name + 'さん')"
   ]
  },
  {
   "cell_type": "code",
   "execution_count": 21,
   "id": "60667cd2-a342-4f37-8560-de4abfcc21f0",
   "metadata": {},
   "outputs": [
    {
     "name": "stdout",
     "output_type": "stream",
     "text": [
      "出席番号0番目の今西さん\n",
      "出席番号1番目の砂糖さん\n",
      "出席番号2番目のスズキさん\n",
      "出席番号3番目の高橋さん\n",
      "出席番号4番目の川上さん\n"
     ]
    }
   ],
   "source": [
    "for i, last_name in enumerate(last_names):\n",
    "    print(f'出席番号{i}番目の{last_name}さん')"
   ]
  },
  {
   "cell_type": "code",
   "execution_count": 23,
   "id": "05d8a9a9-3b47-4f5f-9119-a825c4b0d8b8",
   "metadata": {},
   "outputs": [
    {
     "name": "stdout",
     "output_type": "stream",
     "text": [
      "0\n",
      "1\n",
      "2\n",
      "3\n",
      "4\n",
      "5\n",
      "6\n"
     ]
    }
   ],
   "source": [
    "for i in range(10):\n",
    "    if i ==7:\n",
    "        break\n",
    "    print(i)"
   ]
  },
  {
   "cell_type": "code",
   "execution_count": 24,
   "id": "cd874e0b-eb28-4693-a820-6aabb10296c1",
   "metadata": {},
   "outputs": [
    {
     "name": "stdout",
     "output_type": "stream",
     "text": [
      "0\n",
      "1\n",
      "2\n",
      "3\n",
      "4\n",
      "5\n",
      "6\n",
      "8\n",
      "9\n"
     ]
    }
   ],
   "source": [
    "for i in range(10):\n",
    "    if i ==7:\n",
    "        continue\n",
    "    print(i)"
   ]
  },
  {
   "cell_type": "code",
   "execution_count": 25,
   "id": "f1201140-2be7-49be-b544-d75ec027578b",
   "metadata": {},
   "outputs": [],
   "source": [
    "def say_hello():\n",
    "    print('みなさん、こんにちは')"
   ]
  },
  {
   "cell_type": "code",
   "execution_count": 26,
   "id": "0e4486b3-1c97-4907-bc5f-d277df1e435c",
   "metadata": {},
   "outputs": [
    {
     "name": "stdout",
     "output_type": "stream",
     "text": [
      "みなさん、こんにちは\n"
     ]
    }
   ],
   "source": [
    "say_hello()"
   ]
  },
  {
   "cell_type": "code",
   "execution_count": 27,
   "id": "8d8409b0-b577-42e5-97a5-2149c69d89b6",
   "metadata": {},
   "outputs": [],
   "source": [
    "def say_hello2(name):\n",
    "    print(f'{name}さん、こんにちは')"
   ]
  },
  {
   "cell_type": "code",
   "execution_count": 29,
   "id": "fe85ea87-2f97-4fde-bdc1-3e7ef61249e0",
   "metadata": {},
   "outputs": [
    {
     "name": "stdout",
     "output_type": "stream",
     "text": [
      "今西さん、こんにちは\n"
     ]
    }
   ],
   "source": [
    "say_hello2(name='今西')"
   ]
  },
  {
   "cell_type": "code",
   "execution_count": 30,
   "id": "c9d3db32-80cf-4256-bcea-81ca10dd0eb0",
   "metadata": {},
   "outputs": [],
   "source": [
    "# def calc_square(side):\n",
    "#     print(side * side)"
   ]
  },
  {
   "cell_type": "code",
   "execution_count": 32,
   "id": "07228cf0-ea55-40c6-8286-05e7c01ebc43",
   "metadata": {},
   "outputs": [
    {
     "name": "stdout",
     "output_type": "stream",
     "text": [
      "100\n"
     ]
    }
   ],
   "source": [
    "# result = calc_square(side=10)"
   ]
  },
  {
   "cell_type": "code",
   "execution_count": 40,
   "id": "d218c0e1-cf5d-468b-babb-bf87293fd891",
   "metadata": {},
   "outputs": [],
   "source": [
    "def calc_square(side):\n",
    "    return side * side"
   ]
  },
  {
   "cell_type": "code",
   "execution_count": 42,
   "id": "e27651b4-6598-4356-ab09-0dcda78a4170",
   "metadata": {},
   "outputs": [],
   "source": [
    "result = calc_square(side=10)"
   ]
  },
  {
   "cell_type": "code",
   "execution_count": 43,
   "id": "c45ad97f-e9d0-4828-9c5e-69292afc963c",
   "metadata": {},
   "outputs": [
    {
     "data": {
      "text/plain": [
       "100"
      ]
     },
     "execution_count": 43,
     "metadata": {},
     "output_type": "execute_result"
    }
   ],
   "source": [
    "result"
   ]
  },
  {
   "cell_type": "code",
   "execution_count": 44,
   "id": "48aa8423-d29f-41a1-90e5-94bf7d4d3e4c",
   "metadata": {},
   "outputs": [],
   "source": [
    "def calc_tri(base, height):\n",
    "    return base * height * 0.5"
   ]
  },
  {
   "cell_type": "code",
   "execution_count": 45,
   "id": "01760e01-43bd-4925-93a1-5f7adf06bd80",
   "metadata": {},
   "outputs": [
    {
     "data": {
      "text/plain": [
       "1000.0"
      ]
     },
     "execution_count": 45,
     "metadata": {},
     "output_type": "execute_result"
    }
   ],
   "source": [
    "calc_tri(base=100, height=20)"
   ]
  },
  {
   "cell_type": "code",
   "execution_count": 71,
   "id": "028f8603-4dee-4589-b745-97a1da60fa28",
   "metadata": {},
   "outputs": [],
   "source": [
    "class Person:\n",
    "    #初期設定\n",
    "    def __init__(self, name, nationality, age):\n",
    "        self.name = name\n",
    "        self.nationality = nationality\n",
    "        self.age = age\n",
    "        \n",
    "    def __call__(self, name):\n",
    "        print(f\"{name}さん、こんにちは。私は{self.name}です。call関数から呼び出されています。\")\n",
    "        \n",
    "    def say_hello(self, name):\n",
    "        print(f\"{name}さん、こんにちは。私は{self.name}です。\")"
   ]
  },
  {
   "cell_type": "code",
   "execution_count": 72,
   "id": "955537f6-bbca-4ddf-b5dd-3eeab16cf32a",
   "metadata": {},
   "outputs": [],
   "source": [
    "imanishi = Person(name='今西', nationality='日本', age=26)"
   ]
  },
  {
   "cell_type": "code",
   "execution_count": 73,
   "id": "204087d8-0567-402e-8e52-75a75c5436ad",
   "metadata": {},
   "outputs": [
    {
     "data": {
      "text/plain": [
       "<__main__.Person at 0x7f8bd2dd9f50>"
      ]
     },
     "execution_count": 73,
     "metadata": {},
     "output_type": "execute_result"
    }
   ],
   "source": [
    "imanishi"
   ]
  },
  {
   "cell_type": "code",
   "execution_count": 66,
   "id": "6aacac22-bb92-404a-9b91-14786b7d25b3",
   "metadata": {},
   "outputs": [],
   "source": [
    "mike = Person(name='マイク', nationality='アメリカ', age=23)"
   ]
  },
  {
   "cell_type": "code",
   "execution_count": 67,
   "id": "85d41a58-427e-468c-882b-1acfd2b666e5",
   "metadata": {},
   "outputs": [
    {
     "data": {
      "text/plain": [
       "23"
      ]
     },
     "execution_count": 67,
     "metadata": {},
     "output_type": "execute_result"
    }
   ],
   "source": [
    "mike.age"
   ]
  },
  {
   "cell_type": "code",
   "execution_count": 68,
   "id": "05b2e1cf-9b68-4b2c-865b-aa88866981de",
   "metadata": {},
   "outputs": [
    {
     "name": "stdout",
     "output_type": "stream",
     "text": [
      "佐藤さん、こんにちは。私は今西です。\n"
     ]
    }
   ],
   "source": [
    "imanishi.say_hello(name='佐藤')"
   ]
  },
  {
   "cell_type": "code",
   "execution_count": 59,
   "id": "445f90bb-726f-43ba-ab4b-0445c59a9b39",
   "metadata": {},
   "outputs": [
    {
     "ename": "TypeError",
     "evalue": "say_hello() takes 1 positional argument but 2 were given",
     "output_type": "error",
     "traceback": [
      "\u001b[0;31m---------------------------------------------------------------------------\u001b[0m",
      "\u001b[0;31mTypeError\u001b[0m                                 Traceback (most recent call last)",
      "\u001b[0;32m<ipython-input-59-f2f8afe1e47a>\u001b[0m in \u001b[0;36m<module>\u001b[0;34m\u001b[0m\n\u001b[0;32m----> 1\u001b[0;31m \u001b[0mmike\u001b[0m\u001b[0;34m.\u001b[0m\u001b[0msay_hello\u001b[0m\u001b[0;34m(\u001b[0m\u001b[0;34m'スズキ'\u001b[0m\u001b[0;34m)\u001b[0m\u001b[0;34m\u001b[0m\u001b[0;34m\u001b[0m\u001b[0m\n\u001b[0m",
      "\u001b[0;31mTypeError\u001b[0m: say_hello() takes 1 positional argument but 2 were given"
     ]
    }
   ],
   "source": [
    "mike.say_hello('スズキ')"
   ]
  },
  {
   "cell_type": "code",
   "execution_count": 53,
   "id": "8991faa1-7b48-4e4a-bf73-c090666ab3b0",
   "metadata": {},
   "outputs": [
    {
     "ename": "TypeError",
     "evalue": "say_hello() got an unexpected keyword argument 'name'",
     "output_type": "error",
     "traceback": [
      "\u001b[0;31m---------------------------------------------------------------------------\u001b[0m",
      "\u001b[0;31mTypeError\u001b[0m                                 Traceback (most recent call last)",
      "\u001b[0;32m<ipython-input-53-783f28a5d197>\u001b[0m in \u001b[0;36m<module>\u001b[0;34m\u001b[0m\n\u001b[0;32m----> 1\u001b[0;31m \u001b[0mimanishi\u001b[0m\u001b[0;34m.\u001b[0m\u001b[0msay_hello\u001b[0m\u001b[0;34m(\u001b[0m\u001b[0mname\u001b[0m\u001b[0;34m=\u001b[0m\u001b[0;34m'さとう'\u001b[0m\u001b[0;34m)\u001b[0m\u001b[0;34m\u001b[0m\u001b[0;34m\u001b[0m\u001b[0m\n\u001b[0m",
      "\u001b[0;31mTypeError\u001b[0m: say_hello() got an unexpected keyword argument 'name'"
     ]
    }
   ],
   "source": []
  },
  {
   "cell_type": "code",
   "execution_count": 74,
   "id": "69ac6ae6-80c3-4f9c-ae25-23b1d6aebf09",
   "metadata": {},
   "outputs": [
    {
     "name": "stdout",
     "output_type": "stream",
     "text": [
      "砂糖さん、こんにちは。私は今西です。call関数から呼び出されています。\n"
     ]
    }
   ],
   "source": [
    "imanishi(name='砂糖')"
   ]
  },
  {
   "cell_type": "code",
   "execution_count": 75,
   "id": "ef8167c9-159f-4403-95f6-3cda8e5f6979",
   "metadata": {},
   "outputs": [],
   "source": [
    "import datetime"
   ]
  },
  {
   "cell_type": "code",
   "execution_count": 79,
   "id": "1461dfa6-6309-4a41-97f9-2185a462cb26",
   "metadata": {},
   "outputs": [],
   "source": [
    "today = datetime.date.today()"
   ]
  },
  {
   "cell_type": "code",
   "execution_count": 77,
   "id": "a3c89723-8857-4c27-8fa8-c23588b96239",
   "metadata": {},
   "outputs": [
    {
     "data": {
      "text/plain": [
       "datetime.datetime(2021, 5, 10, 14, 39, 35, 583226)"
      ]
     },
     "execution_count": 77,
     "metadata": {},
     "output_type": "execute_result"
    }
   ],
   "source": [
    "datetime.datetime.now()"
   ]
  },
  {
   "cell_type": "code",
   "execution_count": 80,
   "id": "241e3a4e-0e8b-46a6-8418-67af46da1d5d",
   "metadata": {},
   "outputs": [
    {
     "data": {
      "text/plain": [
       "10"
      ]
     },
     "execution_count": 80,
     "metadata": {},
     "output_type": "execute_result"
    }
   ],
   "source": [
    "today.day"
   ]
  },
  {
   "cell_type": "code",
   "execution_count": 81,
   "id": "6d1745c7-c932-4f6a-abee-ae72903546e9",
   "metadata": {},
   "outputs": [
    {
     "data": {
      "text/plain": [
       "5"
      ]
     },
     "execution_count": 81,
     "metadata": {},
     "output_type": "execute_result"
    }
   ],
   "source": [
    "today.month"
   ]
  },
  {
   "cell_type": "code",
   "execution_count": 83,
   "id": "30a379cd-375d-4089-b7da-61d68d9f1ec9",
   "metadata": {},
   "outputs": [
    {
     "data": {
      "text/plain": [
       "2021"
      ]
     },
     "execution_count": 83,
     "metadata": {},
     "output_type": "execute_result"
    }
   ],
   "source": [
    "today.year"
   ]
  },
  {
   "cell_type": "code",
   "execution_count": 84,
   "id": "1609a2df-5eac-4f98-bdd8-dbaa5f4be770",
   "metadata": {},
   "outputs": [
    {
     "data": {
      "text/plain": [
       "datetime.date(2021, 5, 9)"
      ]
     },
     "execution_count": 84,
     "metadata": {},
     "output_type": "execute_result"
    }
   ],
   "source": [
    "today -datetime.timedelta(days=1)"
   ]
  },
  {
   "cell_type": "code",
   "execution_count": 85,
   "id": "74eff35a-4599-4cd3-a6c4-bdf5ca6a5584",
   "metadata": {},
   "outputs": [
    {
     "name": "stdout",
     "output_type": "stream",
     "text": [
      "2021-05-10\n"
     ]
    }
   ],
   "source": [
    "print(today)"
   ]
  },
  {
   "cell_type": "code",
   "execution_count": 86,
   "id": "b556d143-5774-4fbf-a7d6-67333c2f7945",
   "metadata": {},
   "outputs": [
    {
     "data": {
      "text/plain": [
       "'2021年05月10日'"
      ]
     },
     "execution_count": 86,
     "metadata": {},
     "output_type": "execute_result"
    }
   ],
   "source": [
    "today.strftime('%Y年%m月%d日')"
   ]
  },
  {
   "cell_type": "code",
   "execution_count": 87,
   "id": "ce44d008-f607-487d-b6a2-94ea2e7a7415",
   "metadata": {},
   "outputs": [
    {
     "data": {
      "text/plain": [
       "'2021/05/10'"
      ]
     },
     "execution_count": 87,
     "metadata": {},
     "output_type": "execute_result"
    }
   ],
   "source": [
    "today.strftime('%Y/%m/%d')"
   ]
  },
  {
   "cell_type": "code",
   "execution_count": 88,
   "id": "20cce71a-a6b1-461b-b4cb-79f519139d81",
   "metadata": {},
   "outputs": [
    {
     "name": "stdout",
     "output_type": "stream",
     "text": [
      "Requirement already satisfied: pandas in /Users/do/.pyenv/versions/anaconda3-2019.10/lib/python3.7/site-packages (1.2.4)\n",
      "Requirement already satisfied: numpy>=1.16.5 in /Users/do/.pyenv/versions/anaconda3-2019.10/lib/python3.7/site-packages (from pandas) (1.20.2)\n",
      "Requirement already satisfied: pytz>=2017.3 in /Users/do/.pyenv/versions/anaconda3-2019.10/lib/python3.7/site-packages (from pandas) (2021.1)\n",
      "Requirement already satisfied: python-dateutil>=2.7.3 in /Users/do/.pyenv/versions/anaconda3-2019.10/lib/python3.7/site-packages (from pandas) (2.8.1)\n",
      "Requirement already satisfied: six>=1.5 in /Users/do/.pyenv/versions/anaconda3-2019.10/lib/python3.7/site-packages (from python-dateutil>=2.7.3->pandas) (1.15.0)\n"
     ]
    }
   ],
   "source": [
    "!pip3 install pandas"
   ]
  },
  {
   "cell_type": "code",
   "execution_count": 89,
   "id": "2d041d65-767f-4df2-80c7-da760c081d1e",
   "metadata": {},
   "outputs": [],
   "source": [
    "import pandas as pd"
   ]
  },
  {
   "cell_type": "code",
   "execution_count": 92,
   "id": "b7bfe71b-be41-410a-9985-387f9cfc25e1",
   "metadata": {},
   "outputs": [],
   "source": [
    "df = pd.DataFrame([\n",
    "    [1, 2, 3],\n",
    "    [4, 5, 6],\n",
    "    [7, 8, 9]\n",
    "])"
   ]
  },
  {
   "cell_type": "code",
   "execution_count": 93,
   "id": "fa8a115e-843e-433a-a040-18843907d8b3",
   "metadata": {},
   "outputs": [
    {
     "data": {
      "text/html": [
       "<div>\n",
       "<style scoped>\n",
       "    .dataframe tbody tr th:only-of-type {\n",
       "        vertical-align: middle;\n",
       "    }\n",
       "\n",
       "    .dataframe tbody tr th {\n",
       "        vertical-align: top;\n",
       "    }\n",
       "\n",
       "    .dataframe thead th {\n",
       "        text-align: right;\n",
       "    }\n",
       "</style>\n",
       "<table border=\"1\" class=\"dataframe\">\n",
       "  <thead>\n",
       "    <tr style=\"text-align: right;\">\n",
       "      <th></th>\n",
       "      <th>0</th>\n",
       "      <th>1</th>\n",
       "      <th>2</th>\n",
       "    </tr>\n",
       "  </thead>\n",
       "  <tbody>\n",
       "    <tr>\n",
       "      <th>0</th>\n",
       "      <td>1</td>\n",
       "      <td>2</td>\n",
       "      <td>3</td>\n",
       "    </tr>\n",
       "    <tr>\n",
       "      <th>1</th>\n",
       "      <td>4</td>\n",
       "      <td>5</td>\n",
       "      <td>6</td>\n",
       "    </tr>\n",
       "    <tr>\n",
       "      <th>2</th>\n",
       "      <td>7</td>\n",
       "      <td>8</td>\n",
       "      <td>9</td>\n",
       "    </tr>\n",
       "  </tbody>\n",
       "</table>\n",
       "</div>"
      ],
      "text/plain": [
       "   0  1  2\n",
       "0  1  2  3\n",
       "1  4  5  6\n",
       "2  7  8  9"
      ]
     },
     "execution_count": 93,
     "metadata": {},
     "output_type": "execute_result"
    }
   ],
   "source": [
    "df"
   ]
  },
  {
   "cell_type": "code",
   "execution_count": null,
   "id": "e2e49e56-6a4e-4bd7-bee1-9b71263ae724",
   "metadata": {},
   "outputs": [],
   "source": []
  }
 ],
 "metadata": {
  "kernelspec": {
   "display_name": "Python 3",
   "language": "python",
   "name": "python3"
  },
  "language_info": {
   "codemirror_mode": {
    "name": "ipython",
    "version": 3
   },
   "file_extension": ".py",
   "mimetype": "text/x-python",
   "name": "python",
   "nbconvert_exporter": "python",
   "pygments_lexer": "ipython3",
   "version": "3.7.4"
  }
 },
 "nbformat": 4,
 "nbformat_minor": 5
}
